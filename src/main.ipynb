{
 "cells": [
  {
   "cell_type": "markdown",
   "metadata": {},
   "source": [
    "# Problem Analysis Workshop 1\n",
    "### Team 7 - Members:\n",
    "- **Tilvan Madalina**  - Student number: 9058215\n",
    "- **Wesley Jayavanti** - Student number: 9019852\n",
    "- **Yun-Chen Wang**    - Student number: 9040873\n",
    "\n",
    "### <font>Table of contents<font>\n",
    "- [Project Description](#1-project-description)\n",
    "- [Project Setup](#2-project-setup)\n",
    "- [Dataset](#3-dataset)\n",
    "- [Data Cleansing](#4-data-cleansing)\n",
    "- [Descriptive Analysis](#5-descriptive-analysis)\n",
    "  - [Summarize Data](#51-summarize-data)\n",
    "  - [Visualize Data](#52-visualize-data)\n",
    "\n",
    "---"
   ]
  },
  {
   "cell_type": "markdown",
   "metadata": {},
   "source": [
    "\n",
    "# 1. Project Description:\n",
    "<a class='anchor' id='project-description'></a>\n",
    "\n",
    "## Findings: \n",
    "[Inside the Rating Scores: A Multilevel Analysis of the Factors Influencing Customer Satisfaction in the Hotel Industry ](https://www.researchgate.net/publication/312164283_Inside_the_Rating_Scores_A_Multilevel_Analysis_of_the_Factors_Influencing_Customer_Satisfaction_in_the_Hotel_Industry) (Radojević, Stanisic & Stanić, 2017)\n",
    "\n",
    "This research has a multilevel analysis of factors affecting customer satisfaction in hotel industry. Data from TripAdvisor.com, includes 13,410 hotels from 80 major destinations. \n",
    "<br> <br>\n",
    "Relevant factors:\n",
    "- visitor's nationality\n",
    "- customer reviews\n",
    "- country GDP\n",
    "- Hofstede's variables\n",
    "\n",
    "## Focus:\n",
    "1. Clarify the definition of customer satisfaction components\n",
    "2. Use targeted questions addressing specific aspects of consumer experience\n",
    "3. Rank factors in order of importance: *ex. room cleanliness, staff friendliness, location*\n",
    "4. Review and refine research questions to match customer preferences changes and industry trends\n",
    "5. Customer segment base - business vs. leisure travellers\n",
    "6. Structured feedback - improve specific areas (1-10 scale)\n",
    "7. Departments aligned with client satisfaction goals"
   ]
  },
  {
   "cell_type": "markdown",
   "metadata": {},
   "source": [
    "# 2. Project Setup"
   ]
  },
  {
   "cell_type": "code",
   "execution_count": 67,
   "metadata": {},
   "outputs": [],
   "source": [
    "# Import libraries\n",
    "import os #eugene\n",
    "import numpy as np\n",
    "import pandas as pd\n",
    "import matplotlib.pyplot as plt\n",
    "from matplotlib_venn import venn3"
   ]
  },
  {
   "cell_type": "markdown",
   "metadata": {},
   "source": [
    "# 3. Dataset"
   ]
  },
  {
   "cell_type": "code",
   "execution_count": 68,
   "metadata": {},
   "outputs": [
    {
     "data": {
      "text/html": [
       "<div>\n",
       "<style scoped>\n",
       "    .dataframe tbody tr th:only-of-type {\n",
       "        vertical-align: middle;\n",
       "    }\n",
       "\n",
       "    .dataframe tbody tr th {\n",
       "        vertical-align: top;\n",
       "    }\n",
       "\n",
       "    .dataframe thead th {\n",
       "        text-align: right;\n",
       "    }\n",
       "</style>\n",
       "<table border=\"1\" class=\"dataframe\">\n",
       "  <thead>\n",
       "    <tr style=\"text-align: right;\">\n",
       "      <th></th>\n",
       "      <th>Visitors_country_name</th>\n",
       "      <th>Destination_country_name</th>\n",
       "      <th>Hotel_id</th>\n",
       "      <th>Reviewer_id</th>\n",
       "      <th>Review_id</th>\n",
       "      <th>Destination_country_id</th>\n",
       "      <th>Visitors_country_id</th>\n",
       "      <th>Overall_rating</th>\n",
       "      <th>Location_rating</th>\n",
       "      <th>Cleanliness_rating</th>\n",
       "      <th>...</th>\n",
       "      <th>Destination_country_mas</th>\n",
       "      <th>Destination_country_uai</th>\n",
       "      <th>Destination_country_lto</th>\n",
       "      <th>Destination_country_ivr</th>\n",
       "      <th>Visitors_country_pdi</th>\n",
       "      <th>Visitors_country_idv</th>\n",
       "      <th>Visitors_country_mas</th>\n",
       "      <th>Visitors_country_uai</th>\n",
       "      <th>Visitors_country_lto</th>\n",
       "      <th>Visitors_country_ivr</th>\n",
       "    </tr>\n",
       "  </thead>\n",
       "  <tbody>\n",
       "    <tr>\n",
       "      <th>0</th>\n",
       "      <td>Afghanistan</td>\n",
       "      <td>Egypt</td>\n",
       "      <td>d302323</td>\n",
       "      <td>BEFE48CEC37A8BAC68FC5471B7D52A68</td>\n",
       "      <td>131620232</td>\n",
       "      <td>59</td>\n",
       "      <td>1</td>\n",
       "      <td>3</td>\n",
       "      <td>2.0</td>\n",
       "      <td>3.0</td>\n",
       "      <td>...</td>\n",
       "      <td>45</td>\n",
       "      <td>80</td>\n",
       "      <td>7</td>\n",
       "      <td>4</td>\n",
       "      <td>NaN</td>\n",
       "      <td>NaN</td>\n",
       "      <td>NaN</td>\n",
       "      <td>NaN</td>\n",
       "      <td>NaN</td>\n",
       "      <td>NaN</td>\n",
       "    </tr>\n",
       "    <tr>\n",
       "      <th>1</th>\n",
       "      <td>Afghanistan</td>\n",
       "      <td>Japan</td>\n",
       "      <td>d1115809</td>\n",
       "      <td>390FEEFF2C67C9ACC376C133F3E5AD9D</td>\n",
       "      <td>223296192</td>\n",
       "      <td>96</td>\n",
       "      <td>1</td>\n",
       "      <td>4</td>\n",
       "      <td>NaN</td>\n",
       "      <td>NaN</td>\n",
       "      <td>...</td>\n",
       "      <td>95</td>\n",
       "      <td>92</td>\n",
       "      <td>88</td>\n",
       "      <td>42</td>\n",
       "      <td>NaN</td>\n",
       "      <td>NaN</td>\n",
       "      <td>NaN</td>\n",
       "      <td>NaN</td>\n",
       "      <td>NaN</td>\n",
       "      <td>NaN</td>\n",
       "    </tr>\n",
       "    <tr>\n",
       "      <th>2</th>\n",
       "      <td>Afghanistan</td>\n",
       "      <td>Egypt</td>\n",
       "      <td>d300669</td>\n",
       "      <td>452C85191D400F6C83F249B4990CBD74</td>\n",
       "      <td>254401713</td>\n",
       "      <td>59</td>\n",
       "      <td>1</td>\n",
       "      <td>5</td>\n",
       "      <td>NaN</td>\n",
       "      <td>5.0</td>\n",
       "      <td>...</td>\n",
       "      <td>45</td>\n",
       "      <td>80</td>\n",
       "      <td>7</td>\n",
       "      <td>4</td>\n",
       "      <td>NaN</td>\n",
       "      <td>NaN</td>\n",
       "      <td>NaN</td>\n",
       "      <td>NaN</td>\n",
       "      <td>NaN</td>\n",
       "      <td>NaN</td>\n",
       "    </tr>\n",
       "    <tr>\n",
       "      <th>3</th>\n",
       "      <td>Afghanistan</td>\n",
       "      <td>United Kingdom</td>\n",
       "      <td>d187989</td>\n",
       "      <td>B112C906DAA206F9F2EA9613526DCD3A</td>\n",
       "      <td>23343685</td>\n",
       "      <td>199</td>\n",
       "      <td>1</td>\n",
       "      <td>4</td>\n",
       "      <td>3.0</td>\n",
       "      <td>5.0</td>\n",
       "      <td>...</td>\n",
       "      <td>66</td>\n",
       "      <td>35</td>\n",
       "      <td>51</td>\n",
       "      <td>69</td>\n",
       "      <td>NaN</td>\n",
       "      <td>NaN</td>\n",
       "      <td>NaN</td>\n",
       "      <td>NaN</td>\n",
       "      <td>NaN</td>\n",
       "      <td>NaN</td>\n",
       "    </tr>\n",
       "    <tr>\n",
       "      <th>4</th>\n",
       "      <td>Afghanistan</td>\n",
       "      <td>Croatia</td>\n",
       "      <td>d601897</td>\n",
       "      <td>17552C71896B64C6EFCC959E1551F412</td>\n",
       "      <td>47403276</td>\n",
       "      <td>49</td>\n",
       "      <td>1</td>\n",
       "      <td>3</td>\n",
       "      <td>5.0</td>\n",
       "      <td>4.0</td>\n",
       "      <td>...</td>\n",
       "      <td>40</td>\n",
       "      <td>80</td>\n",
       "      <td>58</td>\n",
       "      <td>33</td>\n",
       "      <td>NaN</td>\n",
       "      <td>NaN</td>\n",
       "      <td>NaN</td>\n",
       "      <td>NaN</td>\n",
       "      <td>NaN</td>\n",
       "      <td>NaN</td>\n",
       "    </tr>\n",
       "  </tbody>\n",
       "</table>\n",
       "<p>5 rows × 80 columns</p>\n",
       "</div>"
      ],
      "text/plain": [
       "  Visitors_country_name Destination_country_name  Hotel_id  \\\n",
       "0           Afghanistan                    Egypt   d302323   \n",
       "1           Afghanistan                    Japan  d1115809   \n",
       "2           Afghanistan                    Egypt   d300669   \n",
       "3           Afghanistan           United Kingdom   d187989   \n",
       "4           Afghanistan                  Croatia   d601897   \n",
       "\n",
       "                        Reviewer_id  Review_id  Destination_country_id  \\\n",
       "0  BEFE48CEC37A8BAC68FC5471B7D52A68  131620232                      59   \n",
       "1  390FEEFF2C67C9ACC376C133F3E5AD9D  223296192                      96   \n",
       "2  452C85191D400F6C83F249B4990CBD74  254401713                      59   \n",
       "3  B112C906DAA206F9F2EA9613526DCD3A   23343685                     199   \n",
       "4  17552C71896B64C6EFCC959E1551F412   47403276                      49   \n",
       "\n",
       "   Visitors_country_id  Overall_rating  Location_rating  Cleanliness_rating  \\\n",
       "0                    1               3              2.0                 3.0   \n",
       "1                    1               4              NaN                 NaN   \n",
       "2                    1               5              NaN                 5.0   \n",
       "3                    1               4              3.0                 5.0   \n",
       "4                    1               3              5.0                 4.0   \n",
       "\n",
       "   ...  Destination_country_mas  Destination_country_uai  \\\n",
       "0  ...                       45                       80   \n",
       "1  ...                       95                       92   \n",
       "2  ...                       45                       80   \n",
       "3  ...                       66                       35   \n",
       "4  ...                       40                       80   \n",
       "\n",
       "   Destination_country_lto  Destination_country_ivr Visitors_country_pdi  \\\n",
       "0                        7                        4                  NaN   \n",
       "1                       88                       42                  NaN   \n",
       "2                        7                        4                  NaN   \n",
       "3                       51                       69                  NaN   \n",
       "4                       58                       33                  NaN   \n",
       "\n",
       "  Visitors_country_idv Visitors_country_mas  Visitors_country_uai  \\\n",
       "0                  NaN                  NaN                   NaN   \n",
       "1                  NaN                  NaN                   NaN   \n",
       "2                  NaN                  NaN                   NaN   \n",
       "3                  NaN                  NaN                   NaN   \n",
       "4                  NaN                  NaN                   NaN   \n",
       "\n",
       "   Visitors_country_lto  Visitors_country_ivr  \n",
       "0                   NaN                   NaN  \n",
       "1                   NaN                   NaN  \n",
       "2                   NaN                   NaN  \n",
       "3                   NaN                   NaN  \n",
       "4                   NaN                   NaN  \n",
       "\n",
       "[5 rows x 80 columns]"
      ]
     },
     "execution_count": 68,
     "metadata": {},
     "output_type": "execute_result"
    }
   ],
   "source": [
    "path = \"../Dataset/The final data set (uncentered and unscaled variables).csv\"\n",
    "rating_df = pd.read_csv(path)\n",
    "rating_df.head() # print the first 5 rows of the dataset"
   ]
  },
  {
   "cell_type": "markdown",
   "metadata": {},
   "source": [
    "# 4. Data Cleansing\n",
    "\n",
    "The dataset we found contains 75 columns with various data such as country names, IDs, ratings, date of review, facilities and services, and Hoftede's variables. However, there are a few issues that need to be addressed before we can perform an analysis:\n",
    "\n",
    "1. **Missing values**: Some of the columns have missing data. These need to be handled by either filling in the missing values or removing the corresponding rows.\n",
    "2. **Duplicate rows**: The data is categorized by the visitor's country to each other country. This creates a lot of duplicates between the other columns that are specific to the visitor's country. We wil have to organize the data so we don't run into too much duplicates.\n",
    "3. **Incorrect data types**: Some columns may have incorrect data types (e.g., an date column stored as an object instead of a datetime)."
   ]
  },
  {
   "cell_type": "code",
   "execution_count": 69,
   "metadata": {},
   "outputs": [
    {
     "name": "stdout",
     "output_type": "stream",
     "text": [
      "Visitors_country_name           0\n",
      "Destination_country_name        0\n",
      "Hotel_id                        0\n",
      "Reviewer_id                     0\n",
      "Review_id                       0\n",
      "                            ...  \n",
      "Visitors_country_idv        24428\n",
      "Visitors_country_mas        24428\n",
      "Visitors_country_uai        24428\n",
      "Visitors_country_lto        29408\n",
      "Visitors_country_ivr        46917\n",
      "Length: 80, dtype: int64\n"
     ]
    }
   ],
   "source": [
    "# Check for missing values\n",
    "print(rating_df.isnull().sum())"
   ]
  },
  {
   "cell_type": "markdown",
   "metadata": {},
   "source": [
    "### To check for later when we need to change data types"
   ]
  },
  {
   "cell_type": "code",
   "execution_count": 70,
   "metadata": {},
   "outputs": [
    {
     "name": "stdout",
     "output_type": "stream",
     "text": [
      "[dtype('O'), dtype('O'), dtype('O'), dtype('O'), dtype('int64'), dtype('int64'), dtype('int64'), dtype('int64'), dtype('float64'), dtype('float64'), dtype('float64'), dtype('float64'), dtype('float64'), dtype('float64'), dtype('O'), dtype('O'), dtype('O'), dtype('float64'), dtype('float64'), dtype('float64'), dtype('float64'), dtype('int64'), dtype('int64'), dtype('int64'), dtype('int64'), dtype('int64'), dtype('int64'), dtype('int64'), dtype('int64'), dtype('int64'), dtype('int64'), dtype('int64'), dtype('int64'), dtype('int64'), dtype('int64'), dtype('int64'), dtype('int64'), dtype('int64'), dtype('int64'), dtype('int64'), dtype('int64'), dtype('int64'), dtype('int64'), dtype('int64'), dtype('int64'), dtype('int64'), dtype('int64'), dtype('int64'), dtype('int64'), dtype('int64'), dtype('int64'), dtype('int64'), dtype('int64'), dtype('int64'), dtype('int64'), dtype('int64'), dtype('int64'), dtype('int64'), dtype('int64'), dtype('int64'), dtype('int64'), dtype('int64'), dtype('int64'), dtype('int64'), dtype('int64'), dtype('int64'), dtype('float64'), dtype('float64'), dtype('int64'), dtype('int64'), dtype('int64'), dtype('int64'), dtype('int64'), dtype('int64'), dtype('float64'), dtype('float64'), dtype('float64'), dtype('float64'), dtype('float64'), dtype('float64')]\n"
     ]
    }
   ],
   "source": [
    "\n",
    "\n",
    "list_types = rating_df.dtypes.tolist()\n",
    "print(list_types)\n",
    "\n",
    "# country names are objects\n",
    "# hotel id object\n",
    "# reviewer,review,countries ids are int\n",
    "# ratings are float, other than value rating thats an object\n",
    "# date of review and trip type are objects\n",
    "# starting with hotel stars until noofroofs are float\n",
    "# 1/0 values are int\n",
    "# gdp values are float\n",
    "# destination hostedes are int, visitors are float"
   ]
  },
  {
   "cell_type": "markdown",
   "metadata": {},
   "source": [
    "# 5. Descriptive Analysis"
   ]
  },
  {
   "cell_type": "markdown",
   "metadata": {},
   "source": [
    "## 5.1 Summarize Data\n",
    "<a class='anchor' id='51-summarize-data'></a>"
   ]
  },
  {
   "cell_type": "markdown",
   "metadata": {},
   "source": [
    "### Measures of Location (mean, median and mode)"
   ]
  },
  {
   "cell_type": "code",
   "execution_count": 71,
   "metadata": {},
   "outputs": [
    {
     "name": "stdout",
     "output_type": "stream",
     "text": [
      "Mean: 4.03\n",
      "Median: 4.0\n",
      "Mode: 5\n"
     ]
    }
   ],
   "source": [
    "overall_rating = rating_df[\"Overall_rating\"]\n",
    "\n",
    "# Calculate the mean, median, and mode of Overall Rating\n",
    "mean_rating = np.mean(overall_rating)\n",
    "median_rating = np.median(overall_rating)\n",
    "mode_rating = overall_rating.mode()[0]  # Use [0] to get the first mode in case of multiple modes\n",
    "\n",
    "# Print the results\n",
    "print(f\"Mean: {round(mean_rating, 2)}\")\n",
    "print(f\"Median: {median_rating}\")\n",
    "print(f\"Mode: {mode_rating}\")\n"
   ]
  },
  {
   "cell_type": "markdown",
   "metadata": {},
   "source": [
    "### Measures of Dispersion (quartiles , variance, deviation and standard deviation)"
   ]
  },
  {
   "cell_type": "code",
   "execution_count": 72,
   "metadata": {},
   "outputs": [
    {
     "name": "stdout",
     "output_type": "stream",
     "text": [
      "Deviations: 0         -1.03\n",
      "1         -0.03\n",
      "2          0.97\n",
      "3         -0.03\n",
      "4         -1.03\n",
      "           ... \n",
      "1048570   -0.03\n",
      "1048571   -1.03\n",
      "1048572   -3.03\n",
      "1048573   -0.03\n",
      "1048574    0.97\n",
      "Name: Overall_rating, Length: 1048575, dtype: float64\n",
      "\n",
      "Variance: 1.06\n",
      "Standard Deviation: 1.03\n",
      "Quartiles:\n",
      "  Quartile  Value\n",
      "0      Min    1.0\n",
      "1      25%    4.0\n",
      "2      50%    4.0\n",
      "3      75%    5.0\n",
      "4      Max    5.0\n"
     ]
    }
   ],
   "source": [
    "# Calculate deviation between each data point\n",
    "deviations = overall_rating - mean_rating\n",
    "\n",
    "# Create output file with deviations because we have over 1 million data entries\n",
    "_output_path = \"../output/overall_rating_deviations.csv\"\n",
    "os.makedirs(os.path.dirname(_output_path), exist_ok=True)\n",
    "deviations.to_csv() \n",
    "\n",
    "# Calculate variance and standard deviation\n",
    "variance = np.var(overall_rating)\n",
    "std_dev = np.std(overall_rating)\n",
    "\n",
    "# Calculate quartiles\n",
    "quartiles = overall_rating.quantile([0.0, 0.25, 0.5, 0.75, 1.0])\n",
    "df_quartiles = pd.DataFrame({\n",
    "    'Quartile': quartiles.index,\n",
    "    'Value': quartiles.values                      \n",
    "})\n",
    "# Format the 'Quartile' column to show as percentages (e.g., 25% instead of 0.25)\n",
    "df_quartiles['Quartile'] = df_quartiles['Quartile'].apply(lambda x: f'{int(x*100)}%')\n",
    "df_quartiles.loc[df_quartiles['Quartile'] == '0%', 'Quartile'] = \"Min\"\n",
    "df_quartiles.loc[df_quartiles['Quartile'] == '100%', 'Quartile'] = \"Max\"\n",
    "\n",
    "\n",
    "# Print the results\n",
    "print(f\"Deviations: {round(deviations,2)}\")\n",
    "print()\n",
    "print(f\"Variance: {round(variance,2)}\")\n",
    "print(f\"Standard Deviation: {round(std_dev,2)}\")\n",
    "print(\"Quartiles:\")\n",
    "print(df_quartiles)"
   ]
  },
  {
   "cell_type": "markdown",
   "metadata": {},
   "source": [
    "### To do later: maybe focus on some most important variables in the selected columns. "
   ]
  },
  {
   "cell_type": "code",
   "execution_count": 73,
   "metadata": {},
   "outputs": [
    {
     "name": "stdout",
     "output_type": "stream",
     "text": [
      "                             count          mean           std    min  \\\n",
      "Overall_rating           1048575.0      4.025749      1.028680    1.0   \n",
      "Location_rating           819447.0      4.353338      0.861144    1.0   \n",
      "Cleanliness_rating        848016.0      4.269430      0.960662    1.0   \n",
      "Rooms_rating              793224.0      3.961217      1.054077    1.0   \n",
      "Service_rating            955350.0      4.113741      1.064846    1.0   \n",
      "Sleepquality_rating       734851.0      4.150196      1.015453    1.0   \n",
      "Value_rating              849685.0      3.965704      1.061087    1.0   \n",
      "Hotel.stars              1025737.0      3.771034      0.813294    1.0   \n",
      "Hotel.price               966015.0    163.721692    110.405166    7.0   \n",
      "Hotel.distance           1029802.0      3.589292      5.263627    0.0   \n",
      "Hotel.noofrooms          1044163.0    213.389806    240.890239    1.0   \n",
      "Destination_country_GDP  1042020.0  30479.168361  19082.761888  605.0   \n",
      "Destination_country_pdi  1048575.0     55.239733     18.801160   11.0   \n",
      "Destination_country_idv  1048575.0     52.067494     25.491563   12.0   \n",
      "Destination_country_mas  1048575.0     52.238851     18.264078    5.0   \n",
      "Destination_country_uai  1048575.0     60.364365     24.982180    8.0   \n",
      "Destination_country_lto  1048575.0     52.124155     19.657715    4.0   \n",
      "Destination_country_ivr  1048575.0     48.652547     17.433460    0.0   \n",
      "\n",
      "                              25%       50%       75%        max  \\\n",
      "Overall_rating               4.00      4.00      5.00       5.00   \n",
      "Location_rating              4.00      5.00      5.00       5.00   \n",
      "Cleanliness_rating           4.00      5.00      5.00       5.00   \n",
      "Rooms_rating                 3.00      4.00      5.00       5.00   \n",
      "Service_rating               4.00      4.00      5.00       5.00   \n",
      "Sleepquality_rating          4.00      4.00      5.00       5.00   \n",
      "Value_rating                 3.00      4.00      5.00       5.00   \n",
      "Hotel.stars                  3.00      4.00      4.00       5.00   \n",
      "Hotel.price                 90.00    136.00    208.00     999.00   \n",
      "Hotel.distance               1.13      2.09      4.83     540.74   \n",
      "Hotel.noofrooms             57.00    142.00    294.00    3680.00   \n",
      "Destination_country_GDP  13485.50  35685.60  46251.40  110664.80   \n",
      "Destination_country_pdi     38.00     57.00     68.00     100.00   \n",
      "Destination_country_idv     25.00     52.00     76.00      91.00   \n",
      "Destination_country_mas     42.00     56.00     66.00     100.00   \n",
      "Destination_country_uai     35.00     64.00     85.00     100.00   \n",
      "Destination_country_lto     32.00     51.00     63.00     100.00   \n",
      "Destination_country_ivr     33.00     46.00     65.00     100.00   \n",
      "\n",
      "                             variance      IQR  \n",
      "Overall_rating           1.058182e+00      1.0  \n",
      "Location_rating          7.415681e-01      1.0  \n",
      "Cleanliness_rating       9.228710e-01      1.0  \n",
      "Rooms_rating             1.111077e+00      2.0  \n",
      "Service_rating           1.133895e+00      1.0  \n",
      "Sleepquality_rating      1.031143e+00      1.0  \n",
      "Value_rating             1.125904e+00      2.0  \n",
      "Hotel.stars              6.614461e-01      1.0  \n",
      "Hotel.price              1.218929e+04    118.0  \n",
      "Hotel.distance           2.770574e+01      3.7  \n",
      "Hotel.noofrooms          5.802805e+04    237.0  \n",
      "Destination_country_GDP  3.641515e+08  32765.9  \n",
      "Destination_country_pdi  3.534833e+02     30.0  \n",
      "Destination_country_idv  6.498192e+02     51.0  \n",
      "Destination_country_mas  3.335762e+02     24.0  \n",
      "Destination_country_uai  6.241087e+02     50.0  \n",
      "Destination_country_lto  3.864254e+02     31.0  \n",
      "Destination_country_ivr  3.039252e+02     32.0  \n"
     ]
    }
   ],
   "source": [
    "# Print summary statistics for meanigful columns\n",
    "selected_columns =[\"Overall_rating\",\n",
    "                   \"Location_rating\",\n",
    "                   \"Cleanliness_rating\",\n",
    "                   \"Rooms_rating\",\n",
    "                   \"Service_rating\",\n",
    "                   \"Sleepquality_rating\",\n",
    "                   \"Value_rating\",\n",
    "                   \"Hotel.stars\",\n",
    "                   \"Hotel.price\",\n",
    "                   \"Hotel.distance\",\n",
    "                   \"Hotel.noofrooms\",\n",
    "                   \"Destination_country_GDP\",\n",
    "                   \"Destination_country_pdi\",\n",
    "                   \"Destination_country_idv\",\n",
    "                   \"Destination_country_mas\",\n",
    "                   \"Destination_country_uai\",\n",
    "                   \"Destination_country_lto\",\n",
    "                   \"Destination_country_ivr\"\n",
    "                   ] # [1048575 rows x 19 columns]\n",
    "rating_df_stat = rating_df[selected_columns]\n",
    "\n",
    "# Add variance and IQR to summary statistics\n",
    "summary_stats = rating_df_stat.describe().transpose()\n",
    "summary_stats[\"variance\"] = np.var(rating_df_stat)\n",
    "summary_stats[\"IQR\"] = rating_df_stat.quantile(0.75) - rating_df_stat.quantile(0.25)\n",
    "\n",
    "print(summary_stats)\n"
   ]
  },
  {
   "cell_type": "markdown",
   "metadata": {},
   "source": [
    "## 5.2 Visualize Data\n",
    "<a class='anchor' id='52-visualize-data'></a>"
   ]
  },
  {
   "cell_type": "markdown",
   "metadata": {},
   "source": [
    "### 1. Scatter Plot"
   ]
  },
  {
   "cell_type": "code",
   "execution_count": 74,
   "metadata": {},
   "outputs": [
    {
     "data": {
      "image/png": "[encoded data removed]",
      "text/plain": [
       "<Figure size 800x500 with 1 Axes>"
      ]
     },
     "metadata": {},
     "output_type": "display_data"
    }
   ],
   "source": [
    "# Change the date column to be of type datetime\n",
    "review_date = pd.to_datetime(rating_df['Date_of_review'])\n",
    "\n",
    "# Extract the year from the review_date column\n",
    "review_year_month = review_date.dt.to_period('M')\n",
    "\n",
    "# Group by year and calculate the mean overall rating\n",
    "mean_ratings_monthly = rating_df.groupby(review_year_month)['Overall_rating'].mean()\n",
    "mean_ratings_monthly.index = mean_ratings_monthly.index.to_timestamp()\n",
    "\n",
    "# Scatter Plot\n",
    "fig, ax = plt.subplots(figsize=(8, 5), layout='constrained')\n",
    "ax.scatter(mean_ratings_monthly.index, mean_ratings_monthly.values, edgecolors='white')\n",
    "ax.set_title('Historical trend of the mean overall rating scores')\n",
    "ax.set_xlabel('Year')\n",
    "ax.set_ylabel('Mean Overall Rating')\n",
    "\n",
    "# Show ticks from 2002 to 2016 with an interval of 2 years\n",
    "ticks = pd.date_range(start='2002-01-01', end='2016-01-01', freq='2Y')\n",
    "plt.xticks(ticks, labels=[tick.strftime('%Y') for tick in ticks])\n",
    "\n",
    "plt.show()"
   ]
  },
  {
   "cell_type": "markdown",
   "metadata": {},
   "source": [
    "### 2. Histogram"
   ]
  },
  {
   "cell_type": "code",
   "execution_count": 75,
   "metadata": {},
   "outputs": [
    {
     "data": {
      "image/png": "[encoded data removed]",
      "text/plain": [
       "<Figure size 800x500 with 1 Axes>"
      ]
     },
     "metadata": {},
     "output_type": "display_data"
    }
   ],
   "source": [
    "# Extract the year from the review_date column\n",
    "review_year = review_date.dt.year\n",
    "\n",
    "# Histogram\n",
    "fig, ax = plt.subplots(figsize=(8, 5), layout=\"constrained\")\n",
    "ax.hist(review_year, bins=range(2001, 2017), edgecolor='white', align='left')\n",
    "ax.set_title('Total number of rating by year')\n",
    "ax.set_xlabel('Year')\n",
    "ax.set_ylabel('Number of reviews')\n",
    "\n",
    "# Set x-axis and y-axis tick marks and labels\n",
    "x_ticks = np.linspace(2004, 2016, 4)\n",
    "plt.xticks(x_ticks)\n",
    "\n",
    "y_ticks = np.linspace(0, 250000, 4)\n",
    "y_ticks = [round(tick, -4) for tick in y_ticks] # round to the nearest tens of thousands (4 zeros)\n",
    "plt.yticks(y_ticks)\n",
    "\n",
    "plt.show()"
   ]
  },
  {
   "cell_type": "markdown",
   "metadata": {},
   "source": [
    "### 3. Box-Whisker Plot"
   ]
  },
  {
   "cell_type": "code",
   "execution_count": 76,
   "metadata": {},
   "outputs": [
    {
     "name": "stdout",
     "output_type": "stream",
     "text": [
      "<class 'pandas.core.series.Series'>\n",
      "Mean: 4.03\n",
      "Median: 4.0\n",
      "Mode: 5\n",
      "Q1: 4.0,\n",
      "Q3: 5.0,\n",
      "IQR: 1.0;\n"
     ]
    },
    {
     "data": {
      "image/png": "[encoded data removed]",
      "text/plain": [
       "<Figure size 800x500 with 1 Axes>"
      ]
     },
     "metadata": {},
     "output_type": "display_data"
    }
   ],
   "source": [
    "# Group the overall ratings by year\n",
    "\n",
    "# Print info\n",
    "print(type(overall_rating))\n",
    "print(f\"Mean: {round(np.mean(overall_rating), 2)}\")\n",
    "print(f\"Median: {np.median(overall_rating)}\")\n",
    "print(f\"Mode: {overall_rating.mode()[0]}\")\n",
    "Q1 = np.percentile(overall_rating, 25)  # (25th percentile)\n",
    "Q3 = np.percentile(overall_rating, 75)  # (75th percentile)\n",
    "IQR = Q3 - Q1\n",
    "print(f\"Q1: {Q1},\\nQ3: {Q3},\\nIQR: {IQR};\")\n",
    "\n",
    "# Box-Whisker Plot\n",
    "fig, ax = plt.subplots(figsize=(8, 5), layout=\"constrained\")\n",
    "plt.boxplot(overall_rating, showmeans=True, vert=False)\n",
    "ax.set_title('Box-Whisker Plot of Overall Rating')\n",
    "ax.set_xlabel('Overall Rating')\n",
    "\n",
    "plt.show()\n"
   ]
  },
  {
   "cell_type": "markdown",
   "metadata": {},
   "source": [
    "### 4. Venn Diagram"
   ]
  },
  {
   "cell_type": "code",
   "execution_count": 77,
   "metadata": {},
   "outputs": [
    {
     "data": {
      "image/png": "[encoded data removed]",
      "text/plain": [
       "<Figure size 800x500 with 1 Axes>"
      ]
     },
     "metadata": {},
     "output_type": "display_data"
    }
   ],
   "source": [
    "# Define rating categories (for example, Low, Medium, High ratings)\n",
    "low = set(overall_rating[overall_rating < 2.0].index)\n",
    "medium = set(overall_rating[(overall_rating >= 2.0) & (overall_rating <= 4)].index)\n",
    "high = set(overall_rating[overall_rating >= 4].index)\n",
    "\n",
    "# Calculate the sizes of all 7 regions in the Venn diagram\n",
    "only_low = len(low - medium - high)\n",
    "only_medium = len(medium - low - high)\n",
    "only_high = len(high - low - medium)\n",
    "low_and_medium = len(low & medium - high)\n",
    "medium_and_high = len(medium & high - low)\n",
    "low_and_high = len(low & high - medium)\n",
    "all_three = len(low & medium & high)\n",
    "\n",
    "# Venn Diagram\n",
    "fig, ax = plt.subplots(figsize=(8, 5), layout='constrained')\n",
    "venn = venn3(subsets=(only_low, only_medium, low_and_medium, only_high, low_and_high, medium_and_high, all_three), set_labels=('Low', 'Medium', 'High'))\n",
    "\n",
    "plt.title('Venn Diagram of Overall Rating Categories')\n",
    "plt.show()"
   ]
  },
  {
   "cell_type": "markdown",
   "metadata": {},
   "source": [
    "### testing venn diagram"
   ]
  },
  {
   "cell_type": "code",
   "execution_count": 78,
   "metadata": {},
   "outputs": [
    {
     "data": {
      "image/png": "[encoded data removed]",
      "text/plain": [
       "<Figure size 640x480 with 1 Axes>"
      ]
     },
     "metadata": {},
     "output_type": "display_data"
    },
    {
     "name": "stdout",
     "output_type": "stream",
     "text": [
      "38261\n",
      "208117\n",
      "802197\n",
      "38261   208117   401878\n",
      "0   400319   0\n",
      "0\n"
     ]
    }
   ],
   "source": [
    "\n",
    "\n",
    "from matplotlib_venn import venn2  \n",
    "venn2(subsets = (246378, 802197, 555819), set_labels = ('Group A', 'Group B')) \n",
    "plt.show()\n",
    "\n",
    "print(overall_rating[overall_rating < 2.0].count())\n",
    "print(overall_rating[(overall_rating >= 2.0) & (overall_rating < 4)].count())\n",
    "print(overall_rating[overall_rating >= 4].count())\n",
    "\n",
    "only_low = len(low - medium - high)\n",
    "only_medium = len(medium - low - high)\n",
    "only_high = len(high - low - medium)\n",
    "low_and_medium = len(low & medium - high)\n",
    "medium_and_high = len(medium & high - low)\n",
    "low_and_high = len(low & high - medium)\n",
    "all_three = len(low & medium & high)\n",
    "\n",
    "print(only_low, \" \", only_medium, \" \", only_high)\n",
    "print(low_and_medium, \" \", medium_and_high, \" \", low_and_high)\n",
    "print(all_three)\n"
   ]
  }
 ],
 "metadata": {
  "kernelspec": {
   "display_name": "venvPy37",
   "language": "python",
   "name": "python3"
  },
  "language_info": {
   "codemirror_mode": {
    "name": "ipython",
    "version": 3
   },
   "file_extension": ".py",
   "mimetype": "text/x-python",
   "name": "python",
   "nbconvert_exporter": "python",
   "pygments_lexer": "ipython3",
   "version": "3.7.0"
  }
 },
 "nbformat": 4,
 "nbformat_minor": 2
}
